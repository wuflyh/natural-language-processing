{
  "nbformat": 4,
  "nbformat_minor": 0,
  "metadata": {
    "kernelspec": {
      "display_name": "Python 3",
      "language": "python",
      "name": "python3"
    },
    "language_info": {
      "codemirror_mode": {
        "name": "ipython",
        "version": 3
      },
      "file_extension": ".py",
      "mimetype": "text/x-python",
      "name": "python",
      "nbconvert_exporter": "python",
      "pygments_lexer": "ipython3",
      "version": "3.4.3"
    },
    "colab": {
      "name": "week4-seq2seq.ipynb",
      "provenance": []
    }
  },
  "cells": [
    {
      "cell_type": "markdown",
      "metadata": {
        "id": "bRFMysJYFjIG"
      },
      "source": [
        "# Learn to calculate with seq2seq model\n",
        "\n",
        "In this assignment, you will learn how to use neural networks to solve sequence-to-sequence prediction tasks. Seq2Seq models are very popular these days because they achieve great results in Machine Translation, Text Summarization, Conversational Modeling and more.\n",
        "\n",
        "Using sequence-to-sequence modeling you are going to build a calculator for evaluating arithmetic expressions, by taking an equation as an input to the neural network and producing an answer as it's output.\n",
        "\n",
        "The resulting solution for this problem will be based on state-of-the-art approaches for sequence-to-sequence learning and you should be able to easily adapt it to solve other tasks. However, if you want to train your own machine translation system or intellectual chat bot, it would be useful to have access to compute resources like GPU, and be patient, because training of such systems is usually time consuming. \n",
        "\n",
        "### Libraries\n",
        "\n",
        "For this task you will need the following libraries:\n",
        " - [TensorFlow](https://www.tensorflow.org) — an open-source software library for Machine Intelligence.\n",
        " \n",
        "In this assignment, we use Tensorflow 1.15.0. You can install it with pip:\n",
        "\n",
        "    !pip install tensorflow==1.15.0\n",
        "     \n",
        " - [scikit-learn](http://scikit-learn.org/stable/index.html) — a tool for data mining and data analysis.\n",
        " \n",
        "If you have never worked with TensorFlow, you will probably want to read some tutorials during your work on this assignment, e.g. [Neural Machine Translation](https://www.tensorflow.org/tutorials/seq2seq) tutorial deals with very similar task and can explain some concepts to you. "
      ]
    },
    {
      "cell_type": "code",
      "metadata": {
        "colab": {
          "base_uri": "https://localhost:8080/"
        },
        "id": "DlV9vwGV2_59",
        "outputId": "caa71999-5da7-4509-c064-ea0400f15569"
      },
      "source": [
        "!pip install tensorflow==1.15.0"
      ],
      "execution_count": 1,
      "outputs": [
        {
          "output_type": "stream",
          "text": [
            "Requirement already satisfied: tensorflow==1.15.0 in /usr/local/lib/python3.7/dist-packages (1.15.0)\n",
            "Requirement already satisfied: gast==0.2.2 in /usr/local/lib/python3.7/dist-packages (from tensorflow==1.15.0) (0.2.2)\n",
            "Requirement already satisfied: wrapt>=1.11.1 in /usr/local/lib/python3.7/dist-packages (from tensorflow==1.15.0) (1.12.1)\n",
            "Requirement already satisfied: keras-applications>=1.0.8 in /usr/local/lib/python3.7/dist-packages (from tensorflow==1.15.0) (1.0.8)\n",
            "Requirement already satisfied: numpy<2.0,>=1.16.0 in /usr/local/lib/python3.7/dist-packages (from tensorflow==1.15.0) (1.19.5)\n",
            "Requirement already satisfied: six>=1.10.0 in /usr/local/lib/python3.7/dist-packages (from tensorflow==1.15.0) (1.15.0)\n",
            "Requirement already satisfied: grpcio>=1.8.6 in /usr/local/lib/python3.7/dist-packages (from tensorflow==1.15.0) (1.32.0)\n",
            "Requirement already satisfied: wheel>=0.26 in /usr/local/lib/python3.7/dist-packages (from tensorflow==1.15.0) (0.36.2)\n",
            "Requirement already satisfied: tensorflow-estimator==1.15.1 in /usr/local/lib/python3.7/dist-packages (from tensorflow==1.15.0) (1.15.1)\n",
            "Requirement already satisfied: opt-einsum>=2.3.2 in /usr/local/lib/python3.7/dist-packages (from tensorflow==1.15.0) (3.3.0)\n",
            "Requirement already satisfied: google-pasta>=0.1.6 in /usr/local/lib/python3.7/dist-packages (from tensorflow==1.15.0) (0.2.0)\n",
            "Requirement already satisfied: protobuf>=3.6.1 in /usr/local/lib/python3.7/dist-packages (from tensorflow==1.15.0) (3.12.4)\n",
            "Requirement already satisfied: termcolor>=1.1.0 in /usr/local/lib/python3.7/dist-packages (from tensorflow==1.15.0) (1.1.0)\n",
            "Requirement already satisfied: astor>=0.6.0 in /usr/local/lib/python3.7/dist-packages (from tensorflow==1.15.0) (0.8.1)\n",
            "Requirement already satisfied: absl-py>=0.7.0 in /usr/local/lib/python3.7/dist-packages (from tensorflow==1.15.0) (0.12.0)\n",
            "Requirement already satisfied: tensorboard<1.16.0,>=1.15.0 in /usr/local/lib/python3.7/dist-packages (from tensorflow==1.15.0) (1.15.0)\n",
            "Requirement already satisfied: keras-preprocessing>=1.0.5 in /usr/local/lib/python3.7/dist-packages (from tensorflow==1.15.0) (1.1.2)\n",
            "Requirement already satisfied: h5py in /usr/local/lib/python3.7/dist-packages (from keras-applications>=1.0.8->tensorflow==1.15.0) (2.10.0)\n",
            "Requirement already satisfied: setuptools in /usr/local/lib/python3.7/dist-packages (from protobuf>=3.6.1->tensorflow==1.15.0) (54.2.0)\n",
            "Requirement already satisfied: werkzeug>=0.11.15 in /usr/local/lib/python3.7/dist-packages (from tensorboard<1.16.0,>=1.15.0->tensorflow==1.15.0) (1.0.1)\n",
            "Requirement already satisfied: markdown>=2.6.8 in /usr/local/lib/python3.7/dist-packages (from tensorboard<1.16.0,>=1.15.0->tensorflow==1.15.0) (3.3.4)\n",
            "Requirement already satisfied: importlib-metadata; python_version < \"3.8\" in /usr/local/lib/python3.7/dist-packages (from markdown>=2.6.8->tensorboard<1.16.0,>=1.15.0->tensorflow==1.15.0) (3.8.1)\n",
            "Requirement already satisfied: zipp>=0.5 in /usr/local/lib/python3.7/dist-packages (from importlib-metadata; python_version < \"3.8\"->markdown>=2.6.8->tensorboard<1.16.0,>=1.15.0->tensorflow==1.15.0) (3.4.1)\n",
            "Requirement already satisfied: typing-extensions>=3.6.4; python_version < \"3.8\" in /usr/local/lib/python3.7/dist-packages (from importlib-metadata; python_version < \"3.8\"->markdown>=2.6.8->tensorboard<1.16.0,>=1.15.0->tensorflow==1.15.0) (3.7.4.3)\n"
          ],
          "name": "stdout"
        }
      ]
    },
    {
      "cell_type": "code",
      "metadata": {
        "id": "DNvEJCIBFjII",
        "colab": {
          "base_uri": "https://localhost:8080/"
        },
        "outputId": "4b632998-dafc-452b-850b-d14ca4951e41"
      },
      "source": [
        "try:\n",
        "    import google.colab\n",
        "    IN_COLAB = True\n",
        "except:\n",
        "    IN_COLAB = False\n",
        "\n",
        "if IN_COLAB:\n",
        "    ! wget https://raw.githubusercontent.com/hse-aml/natural-language-processing/master/setup_google_colab.py -O setup_google_colab.py\n",
        "    import setup_google_colab\n",
        "    setup_google_colab.setup_week4()"
      ],
      "execution_count": 2,
      "outputs": [
        {
          "output_type": "stream",
          "text": [
            "--2021-04-12 01:38:23--  https://raw.githubusercontent.com/hse-aml/natural-language-processing/master/setup_google_colab.py\n",
            "Resolving raw.githubusercontent.com (raw.githubusercontent.com)... 185.199.108.133, 185.199.109.133, 185.199.110.133, ...\n",
            "Connecting to raw.githubusercontent.com (raw.githubusercontent.com)|185.199.108.133|:443... connected.\n",
            "HTTP request sent, awaiting response... 200 OK\n",
            "Length: 1939 (1.9K) [text/plain]\n",
            "Saving to: ‘setup_google_colab.py’\n",
            "\n",
            "\rsetup_google_colab.   0%[                    ]       0  --.-KB/s               \rsetup_google_colab. 100%[===================>]   1.89K  --.-KB/s    in 0s      \n",
            "\n",
            "2021-04-12 01:38:23 (29.1 MB/s) - ‘setup_google_colab.py’ saved [1939/1939]\n",
            "\n"
          ],
          "name": "stdout"
        }
      ]
    },
    {
      "cell_type": "markdown",
      "metadata": {
        "id": "6s0oEZqeFjIJ"
      },
      "source": [
        "### Data\n",
        "\n",
        "One benefit of this task is that you don't need to download any data — you will generate it on your own! We will use two operators (addition and subtraction) and work with positive integer numbers in some range. Here are examples of correct inputs and outputs:\n",
        "\n",
        "    Input: '1+2'\n",
        "    Output: '3'\n",
        "    \n",
        "    Input: '0-99'\n",
        "    Output: '-99'\n",
        "\n",
        "*Note, that there are no spaces between operators and operands.*\n",
        "\n",
        "\n",
        "Now you need to implement the function *generate_equations*, which will be used to generate the data."
      ]
    },
    {
      "cell_type": "markdown",
      "metadata": {
        "id": "Jv_WU3y-2Dn5"
      },
      "source": [
        ""
      ]
    },
    {
      "cell_type": "code",
      "metadata": {
        "collapsed": true,
        "id": "273h0X2CFjIK"
      },
      "source": [
        "import random"
      ],
      "execution_count": 3,
      "outputs": []
    },
    {
      "cell_type": "code",
      "metadata": {
        "collapsed": true,
        "id": "nhoy0RXpFjIK"
      },
      "source": [
        "def generate_equations(allowed_operators, dataset_size, min_value, max_value):\n",
        "    \"\"\"Generates pairs of equations and solutions to them.\n",
        "    \n",
        "       Each equation has a form of two integers with an operator in between.\n",
        "       Each solution is an integer with the result of the operaion.\n",
        "    \n",
        "        allowed_operators: list of strings, allowed operators.\n",
        "        dataset_size: an integer, number of equations to be generated.\n",
        "        min_value: an integer, min value of each operand.\n",
        "        max_value: an integer, max value of each operand.\n",
        "\n",
        "        result: a list of tuples of strings (equation, solution).\n",
        "    \"\"\"\n",
        "    sample = []\n",
        "    for _ in range(dataset_size):\n",
        "        ######################################\n",
        "        ######### YOUR CODE HERE #############\n",
        "        ######################################\n",
        "        operator = random.choice(allowed_operators)\n",
        "        a = random.randint(min_value, max_value)\n",
        "        b = random.randint(min_value, max_value)\n",
        "        equation = str(a) + operator + str(b)\n",
        "        solution = str(eval(equation))\n",
        "        sample.append((equation, solution))\n",
        "\n",
        "    return sample"
      ],
      "execution_count": 4,
      "outputs": []
    },
    {
      "cell_type": "markdown",
      "metadata": {
        "id": "mZisZgfuFjIL"
      },
      "source": [
        "To check the correctness of your implementation, use *test_generate_equations* function:"
      ]
    },
    {
      "cell_type": "code",
      "metadata": {
        "collapsed": true,
        "id": "ZiQW_PEfFjIL"
      },
      "source": [
        "def test_generate_equations():\n",
        "    allowed_operators = ['+', '-']\n",
        "    dataset_size = 10\n",
        "    for (input_, output_) in generate_equations(allowed_operators, dataset_size, 0, 100):\n",
        "        if not (type(input_) is str and type(output_) is str):\n",
        "            return \"Both parts should be strings.\"\n",
        "        if eval(input_) != int(output_):\n",
        "            return \"The (equation: {!r}, solution: {!r}) pair is incorrect.\".format(input_, output_)\n",
        "    return \"Tests passed.\""
      ],
      "execution_count": 5,
      "outputs": []
    },
    {
      "cell_type": "code",
      "metadata": {
        "collapsed": true,
        "id": "6tSYNwWOFjIM",
        "colab": {
          "base_uri": "https://localhost:8080/"
        },
        "outputId": "096efbab-0a5a-470b-efd8-fd821511c16e"
      },
      "source": [
        "print(test_generate_equations())"
      ],
      "execution_count": 6,
      "outputs": [
        {
          "output_type": "stream",
          "text": [
            "Tests passed.\n"
          ],
          "name": "stdout"
        }
      ]
    },
    {
      "cell_type": "markdown",
      "metadata": {
        "id": "nTllRmU7FjIM"
      },
      "source": [
        "Finally, we are ready to generate the train and test data for the neural network:"
      ]
    },
    {
      "cell_type": "code",
      "metadata": {
        "collapsed": true,
        "id": "2oXkdY5oFjIM"
      },
      "source": [
        "from sklearn.model_selection import train_test_split"
      ],
      "execution_count": 7,
      "outputs": []
    },
    {
      "cell_type": "code",
      "metadata": {
        "collapsed": true,
        "id": "WSSF4DoVFjIM"
      },
      "source": [
        "allowed_operators = ['+', '-']\n",
        "dataset_size = 100000\n",
        "data = generate_equations(allowed_operators, dataset_size, min_value=0, max_value=9999)\n",
        "\n",
        "train_set, test_set = train_test_split(data, test_size=0.2, random_state=42)"
      ],
      "execution_count": 8,
      "outputs": []
    },
    {
      "cell_type": "markdown",
      "metadata": {
        "id": "Cy7hJVMNFjIN"
      },
      "source": [
        "## Prepare data for the neural network\n",
        "\n",
        "The next stage of data preparation is creating mappings of the characters to their indices in some vocabulary. Since in our task we already know which symbols will appear in the inputs and outputs, generating the vocabulary is a simple step.\n",
        "\n",
        "#### How to create dictionaries for other task\n",
        "\n",
        "First of all, you need to understand what is the basic unit of the sequence in your task. In our case, we operate on symbols and the basic unit is a symbol. The number of symbols is small, so we don't need to think about filtering/normalization steps. However, in other tasks, the basic unit is often a word, and in this case the mapping would be *word $\\to$ integer*. The number of words might be huge, so it would be reasonable to filter them, for example, by frequency and leave only the frequent ones. Other strategies that your should consider are: data normalization (lowercasing, tokenization, how to consider punctuation marks), separate vocabulary for input and for output (e.g. for machine translation), some specifics of the task."
      ]
    },
    {
      "cell_type": "code",
      "metadata": {
        "collapsed": true,
        "id": "yLrbskpDFjIN"
      },
      "source": [
        "word2id = {symbol:i for i, symbol in enumerate('#^$+-1234567890')}\n",
        "id2word = {i:symbol for symbol, i in word2id.items()}"
      ],
      "execution_count": 9,
      "outputs": []
    },
    {
      "cell_type": "markdown",
      "metadata": {
        "id": "H0qmV0XtFjIO"
      },
      "source": [
        "#### Special symbols"
      ]
    },
    {
      "cell_type": "code",
      "metadata": {
        "collapsed": true,
        "id": "Xljrv-U1FjIO"
      },
      "source": [
        "start_symbol = '^'\n",
        "end_symbol = '$'\n",
        "padding_symbol = '#'"
      ],
      "execution_count": 10,
      "outputs": []
    },
    {
      "cell_type": "markdown",
      "metadata": {
        "id": "eXw7DmrxFjIO"
      },
      "source": [
        "You could notice that we have added 3 special symbols: '^', '\\$' and '#':\n",
        "- '^' symbol will be passed to the network to indicate the beginning of the decoding procedure. We will discuss this one later in more details.\n",
        "- '\\$' symbol will be used to indicate the *end of a string*, both for input and output sequences. \n",
        "- '#' symbol will be used as a *padding* character to make lengths of all strings equal within one training batch.\n",
        "\n",
        "People have a bit different habits when it comes to special symbols in encoder-decoder networks, so don't get too much confused if you come across other variants in tutorials you read. "
      ]
    },
    {
      "cell_type": "markdown",
      "metadata": {
        "id": "7e-o6OWwFjIP"
      },
      "source": [
        "#### Padding"
      ]
    },
    {
      "cell_type": "markdown",
      "metadata": {
        "id": "ab-ECF3WFjIP"
      },
      "source": [
        "When vocabularies are ready, we need to be able to convert a sentence to a list of vocabulary word indices and back. At the same time, let's care about padding. We are going to preprocess each sequence from the input (and output ground truth) in such a way that:\n",
        "- it has a predefined length *padded_len*\n",
        "- it is probably cut off or padded with the *padding symbol* '#'\n",
        "- it *always* ends with the *end symbol* '$'\n",
        "\n",
        "We will treat the original characters of the sequence **and the end symbol** as the valid part of the input. We will store *the actual length* of the sequence, which includes the end symbol, but does not include the padding symbols. "
      ]
    },
    {
      "cell_type": "markdown",
      "metadata": {
        "id": "Tisl9YsGFjIQ"
      },
      "source": [
        " Now you need to implement the function *sentence_to_ids* that does the described job. "
      ]
    },
    {
      "cell_type": "code",
      "metadata": {
        "collapsed": true,
        "id": "i0DJyLdxFjIQ"
      },
      "source": [
        "def sentence_to_ids(sentence, word2id, padded_len):\n",
        "    \"\"\" Converts a sequence of symbols to a padded sequence of their ids.\n",
        "    \n",
        "      sentence: a string, input/output sequence of symbols.\n",
        "      word2id: a dict, a mapping from original symbols to ids.\n",
        "      padded_len: an integer, a desirable length of the sequence.\n",
        "\n",
        "      result: a tuple of (a list of ids, an actual length of sentence).\n",
        "    \"\"\"\n",
        "    ######### YOUR CODE HERE #############\n",
        "    sent_ids = [word2id[sentence[i]] for i in range(min(padded_len-1, len(sentence)))]\n",
        "    sent_ids.append(word2id['$'])\n",
        "    sent_len = len(sent_ids)\n",
        "    paddings = [word2id['#']] * (padded_len-sent_len)\n",
        "    sent_ids += paddings\n",
        "    return sent_ids, sent_len"
      ],
      "execution_count": 11,
      "outputs": []
    },
    {
      "cell_type": "markdown",
      "metadata": {
        "id": "YcsS8o5zFjIR"
      },
      "source": [
        "Check that your implementation is correct:"
      ]
    },
    {
      "cell_type": "code",
      "metadata": {
        "collapsed": true,
        "id": "q0wisechFjIR"
      },
      "source": [
        "def test_sentence_to_ids():\n",
        "    sentences = [(\"123+123\", 7), (\"123+123\", 8), (\"123+123\", 10)]\n",
        "    expected_output = [([5, 6, 7, 3, 5, 6, 2], 7), \n",
        "                       ([5, 6, 7, 3, 5, 6, 7, 2], 8), \n",
        "                       ([5, 6, 7, 3, 5, 6, 7, 2, 0, 0], 8)] \n",
        "    for (sentence, padded_len), (sentence_ids, expected_length) in zip(sentences, expected_output):\n",
        "        output, length = sentence_to_ids(sentence, word2id, padded_len)\n",
        "        if output != sentence_ids:\n",
        "            return(\"Convertion of '{}' for padded_len={} to {} is incorrect.\".format(\n",
        "                sentence, padded_len, output))\n",
        "        if length != expected_length:\n",
        "            return(\"Convertion of '{}' for padded_len={} has incorrect actual length {}.\".format(\n",
        "                sentence, padded_len, length))\n",
        "    return(\"Tests passed.\")"
      ],
      "execution_count": 12,
      "outputs": []
    },
    {
      "cell_type": "code",
      "metadata": {
        "collapsed": true,
        "id": "9eTvf9vxFjIR",
        "colab": {
          "base_uri": "https://localhost:8080/"
        },
        "outputId": "65439574-f735-44b5-e0e1-17ba07f716a3"
      },
      "source": [
        "print(test_sentence_to_ids())"
      ],
      "execution_count": 13,
      "outputs": [
        {
          "output_type": "stream",
          "text": [
            "Tests passed.\n"
          ],
          "name": "stdout"
        }
      ]
    },
    {
      "cell_type": "markdown",
      "metadata": {
        "id": "hHc0Qdk_FjIR"
      },
      "source": [
        "We also need to be able to get back from indices to symbols:"
      ]
    },
    {
      "cell_type": "code",
      "metadata": {
        "collapsed": true,
        "id": "uXPXwBP0FjIR"
      },
      "source": [
        "def ids_to_sentence(ids, id2word):\n",
        "    \"\"\" Converts a sequence of ids to a sequence of symbols.\n",
        "    \n",
        "          ids: a list, indices for the padded sequence.\n",
        "          id2word:  a dict, a mapping from ids to original symbols.\n",
        "\n",
        "          result: a list of symbols.\n",
        "    \"\"\"\n",
        " \n",
        "    return [id2word[i] for i in ids] "
      ],
      "execution_count": 14,
      "outputs": []
    },
    {
      "cell_type": "markdown",
      "metadata": {
        "id": "LWzUtBASFjIS"
      },
      "source": [
        "#### Generating batches"
      ]
    },
    {
      "cell_type": "markdown",
      "metadata": {
        "id": "1SPwI_uPFjIS"
      },
      "source": [
        "The final step of data preparation is a function that transforms a batch of sentences to a list of lists of indices. "
      ]
    },
    {
      "cell_type": "code",
      "metadata": {
        "collapsed": true,
        "id": "myHVm0IiFjIS"
      },
      "source": [
        "def batch_to_ids(sentences, word2id, max_len):\n",
        "    \"\"\"Prepares batches of indices. \n",
        "    \n",
        "       Sequences are padded to match the longest sequence in the batch,\n",
        "       if it's longer than max_len, then max_len is used instead.\n",
        "\n",
        "        sentences: a list of strings, original sequences.\n",
        "        word2id: a dict, a mapping from original symbols to ids.\n",
        "        max_len: an integer, max len of sequences allowed.\n",
        "\n",
        "        result: a list of lists of ids, a list of actual lengths.\n",
        "    \"\"\"\n",
        "    \n",
        "    max_len_in_batch = min(max(len(s) for s in sentences) + 1, max_len)\n",
        "    batch_ids, batch_ids_len = [], []\n",
        "    for sentence in sentences:\n",
        "        ids, ids_len = sentence_to_ids(sentence, word2id, max_len_in_batch)\n",
        "        batch_ids.append(ids)\n",
        "        batch_ids_len.append(ids_len)\n",
        "    return batch_ids, batch_ids_len"
      ],
      "execution_count": 15,
      "outputs": []
    },
    {
      "cell_type": "markdown",
      "metadata": {
        "id": "chy0NA0OFjIT"
      },
      "source": [
        "The function *generate_batches* will help to generate batches with defined size from given samples."
      ]
    },
    {
      "cell_type": "code",
      "metadata": {
        "collapsed": true,
        "id": "InfbBlZkFjIT"
      },
      "source": [
        "def generate_batches(samples, batch_size=64):\n",
        "    X, Y = [], []\n",
        "    for i, (x, y) in enumerate(samples, 1):\n",
        "        X.append(x)\n",
        "        Y.append(y)\n",
        "        if i % batch_size == 0:\n",
        "            yield X, Y\n",
        "            X, Y = [], []\n",
        "    if X and Y:\n",
        "        yield X, Y"
      ],
      "execution_count": 16,
      "outputs": []
    },
    {
      "cell_type": "markdown",
      "metadata": {
        "id": "Wayiu980FjIU"
      },
      "source": [
        "To illustrate the result of the implemented functions, run the following cell:"
      ]
    },
    {
      "cell_type": "code",
      "metadata": {
        "collapsed": true,
        "id": "u3Qv3oiFFjIU",
        "colab": {
          "base_uri": "https://localhost:8080/"
        },
        "outputId": "7513a537-9714-498e-a7a1-e1cb9899fad5"
      },
      "source": [
        "sentences = train_set[0]\n",
        "print(type(sentences))\n",
        "for s in sentences:\n",
        "  print(s)\n",
        "ids, sent_lens = batch_to_ids(sentences, word2id, max_len=10)\n",
        "print('Input:', sentences)\n",
        "print('Ids: {}\\nSentences lengths: {}'.format(ids, sent_lens))\n",
        "print(sentence_to_ids('246',word2id,20))"
      ],
      "execution_count": 17,
      "outputs": [
        {
          "output_type": "stream",
          "text": [
            "<class 'tuple'>\n",
            "6787-8325\n",
            "-1538\n",
            "Input: ('6787-8325', '-1538')\n",
            "Ids: [[10, 11, 12, 11, 4, 12, 7, 6, 9, 2], [4, 5, 9, 7, 12, 2, 0, 0, 0, 0]]\n",
            "Sentences lengths: [10, 6]\n",
            "([6, 8, 10, 2, 0, 0, 0, 0, 0, 0, 0, 0, 0, 0, 0, 0, 0, 0, 0, 0], 4)\n"
          ],
          "name": "stdout"
        }
      ]
    },
    {
      "cell_type": "markdown",
      "metadata": {
        "id": "qVn2qcp6FjIU"
      },
      "source": [
        "## Encoder-Decoder architecture\n",
        "\n",
        "Encoder-Decoder is a successful architecture for Seq2Seq tasks with different lengths of input and output sequences. The main idea is to use two recurrent neural networks, where the first neural network *encodes* the input sequence into a real-valued vector and then the second neural network *decodes* this vector into the output sequence. While building the neural network, we will specify some particular characteristics of this architecture."
      ]
    },
    {
      "cell_type": "code",
      "metadata": {
        "collapsed": true,
        "id": "-lbgZifgFjIU"
      },
      "source": [
        "import tensorflow as tf"
      ],
      "execution_count": 18,
      "outputs": []
    },
    {
      "cell_type": "markdown",
      "metadata": {
        "id": "b8hg3JOrFjIU"
      },
      "source": [
        "Let us use TensorFlow building blocks to specify the network architecture."
      ]
    },
    {
      "cell_type": "code",
      "metadata": {
        "collapsed": true,
        "id": "16jf7a2qFjIV"
      },
      "source": [
        "class Seq2SeqModel(object):\n",
        "    pass"
      ],
      "execution_count": 19,
      "outputs": []
    },
    {
      "cell_type": "markdown",
      "metadata": {
        "id": "Bj7RA8AIFjIV"
      },
      "source": [
        "First, we need to create [placeholders](https://www.tensorflow.org/api_guides/python/io_ops#Placeholders) to specify what data we are going to feed into the network during the execution time. For this task we will need:\n",
        " - *input_batch* — sequences of sentences (the shape will equal to [batch_size, max_sequence_len_in_batch]);\n",
        " - *input_batch_lengths* — lengths of not padded sequences (the shape equals to [batch_size]);\n",
        " - *ground_truth* — sequences of groundtruth (the shape will equal to [batch_size, max_sequence_len_in_batch]);\n",
        " - *ground_truth_lengths* — lengths of not padded groundtruth sequences (the shape equals to [batch_size]);\n",
        " - *dropout_ph* — dropout keep probability; this placeholder has a predifined value 1;\n",
        " - *learning_rate_ph* — learning rate."
      ]
    },
    {
      "cell_type": "code",
      "metadata": {
        "collapsed": true,
        "id": "Zrd-QNgyFjIV"
      },
      "source": [
        "def declare_placeholders(self):\n",
        "    \"\"\"Specifies placeholders for the model.\"\"\"\n",
        "    \n",
        "    # Placeholders for input and its actual lengths.\n",
        "    self.input_batch = tf.placeholder(shape=(None, None), dtype=tf.int32, name='input_batch')\n",
        "    self.input_batch_lengths = tf.placeholder(shape=(None, ), dtype=tf.int32, name='input_batch_lengths')\n",
        "    \n",
        "    # Placeholders for groundtruth and its actual lengths.\n",
        "    ######### YOUR CODE HERE #############\n",
        "    self.ground_truth = tf.placeholder(shape=(None, None), dtype=tf.int32, name='output_batch')\n",
        "    ######### YOUR CODE HERE #############\n",
        "    self.ground_truth_lengths = tf.placeholder(shape=(None, ), dtype=tf.int32, name='output_batch_lengths')\n",
        "        \n",
        "    self.dropout_ph = tf.placeholder_with_default(tf.cast(1.0, tf.float32), shape=[])\n",
        "    ######### YOUR CODE HERE ############# \n",
        "    self.learning_rate_ph = tf.placeholder_with_default(tf.cast(0.001, tf.float32), shape=[])"
      ],
      "execution_count": 20,
      "outputs": []
    },
    {
      "cell_type": "code",
      "metadata": {
        "collapsed": true,
        "id": "rZEYXVBGFjIV"
      },
      "source": [
        "Seq2SeqModel.__declare_placeholders = classmethod(declare_placeholders)"
      ],
      "execution_count": 21,
      "outputs": []
    },
    {
      "cell_type": "markdown",
      "metadata": {
        "id": "ABoijcV4FjIW"
      },
      "source": [
        "Now, let us specify the layers of the neural network. First, we need to prepare an embedding matrix. Since we use the same vocabulary for input and output, we need only one such matrix. For tasks with different vocabularies there would be multiple embedding layers.\n",
        "- Create embeddings matrix with [tf.Variable](https://www.tensorflow.org/api_docs/python/tf/Variable). Specify its name, type (tf.float32), and initialize with random values.\n",
        "- Perform [embeddings lookup](https://www.tensorflow.org/api_docs/python/tf/nn/embedding_lookup) for a given input batch."
      ]
    },
    {
      "cell_type": "code",
      "metadata": {
        "collapsed": true,
        "id": "33z6wzPpFjIW"
      },
      "source": [
        "def create_embeddings(self, vocab_size, embeddings_size):\n",
        "    \"\"\"Specifies embeddings layer and embeds an input batch.\"\"\"\n",
        "     \n",
        "    random_initializer = tf.random_uniform((vocab_size, embeddings_size), -1.0, 1.0)\n",
        "    ######### YOUR CODE HERE #############\n",
        "    self.embeddings =  tf.Variable(random_initializer, dtype = tf.float32)\n",
        "    \n",
        "    # Perform embeddings lookup for self.input_batch. \n",
        "    ######### YOUR CODE HERE ############# \n",
        "    self.input_batch_embedded = tf.nn.embedding_lookup(self.embeddings, \n",
        "                                                       self.input_batch)\n"
      ],
      "execution_count": 22,
      "outputs": []
    },
    {
      "cell_type": "code",
      "metadata": {
        "collapsed": true,
        "id": "Bz_oog0KFjIW"
      },
      "source": [
        "Seq2SeqModel.__create_embeddings = classmethod(create_embeddings)"
      ],
      "execution_count": 23,
      "outputs": []
    },
    {
      "cell_type": "markdown",
      "metadata": {
        "id": "lfGmOiNRFjIW"
      },
      "source": [
        "#### Encoder\n",
        "\n",
        "The first RNN of the current architecture is called an *encoder* and serves for encoding an input sequence to a real-valued vector. Input of this RNN is an embedded input batch. Since sentences in the same batch could have different actual lengths, we also provide input lengths to avoid unnecessary computations. The final encoder state will be passed to the second RNN (decoder), which we will create soon. \n",
        "\n",
        "- TensorFlow provides a number of [RNN cells](https://www.tensorflow.org/api_guides/python/contrib.rnn#Core_RNN_Cells_for_use_with_TensorFlow_s_core_RNN_methods) ready for use. We suggest that you use [GRU cell](https://www.tensorflow.org/api_docs/python/tf/contrib/rnn/GRUCell), but you can also experiment with other types. \n",
        "- Wrap your cells with [DropoutWrapper](https://www.tensorflow.org/api_docs/python/tf/contrib/rnn/DropoutWrapper). Dropout is an important regularization technique for neural networks. Specify input keep probability using the dropout placeholder that we created before.\n",
        "- Combine the defined encoder cells with [Dynamic RNN](https://www.tensorflow.org/api_docs/python/tf/nn/dynamic_rnn). Use the embedded input batches and their lengths here.\n",
        "- Use *dtype=tf.float32* everywhere."
      ]
    },
    {
      "cell_type": "code",
      "metadata": {
        "collapsed": true,
        "id": "fxGCXCCaFjIW"
      },
      "source": [
        "def build_encoder(self, hidden_size):\n",
        "    \"\"\"Specifies encoder architecture and computes its output.\"\"\"\n",
        "    \n",
        "    # Create GRUCell with dropout.\n",
        "    ######### YOUR CODE HERE #############\n",
        "    encoder_cell = tf.nn.rnn_cell.GRUCell(hidden_size)\n",
        "    encoder_cell_dropout = tf.nn.rnn_cell.DropoutWrapper(encoder_cell,\n",
        "                                                         input_keep_prob=self.dropout_ph,\n",
        "                                                         state_keep_prob=self.dropout_ph,\n",
        "                                                         output_keep_prob=self.dropout_ph)\n",
        "    \n",
        "    # Create RNN with the predefined cell.\n",
        "    ######### YOUR CODE HERE #############\n",
        "    _, self.final_encoder_state = tf.nn.dynamic_rnn(encoder_cell_dropout, \n",
        "                                                    self.input_batch_embedded,\n",
        "                                                    self.input_batch_lengths,\n",
        "                                                    dtype=tf.float32)\n",
        "    # final_encode_state shape [batch_size, hidden_size/*cell.state_size*/]\n",
        "    # https://www.tensorflow.org/api_docs/python/tf/compat/v1/nn/dynamic_rnn"
      ],
      "execution_count": 24,
      "outputs": []
    },
    {
      "cell_type": "code",
      "metadata": {
        "collapsed": true,
        "id": "FzcxO0FRFjIX"
      },
      "source": [
        "Seq2SeqModel.__build_encoder = classmethod(build_encoder)"
      ],
      "execution_count": 25,
      "outputs": []
    },
    {
      "cell_type": "markdown",
      "metadata": {
        "id": "BOcEKd7PFjIX"
      },
      "source": [
        "#### Decoder\n",
        "\n",
        "The second RNN is called a *decoder* and serves for generating the output sequence. In the simple seq2seq arcitecture, the input sequence is provided to the decoder only as the final state of the encoder. Obviously, it is a bottleneck and [Attention techniques](https://www.tensorflow.org/tutorials/seq2seq#background_on_the_attention_mechanism) can help to overcome it. So far, we do not need them to make our calculator work, but this would be a necessary ingredient for more advanced tasks. \n",
        "\n",
        "During training, decoder also uses information about the true output. It is feeded in as input symbol by symbol. However, during the prediction stage (which is called *inference* in this architecture), the decoder can only use its own generated output from the previous step to feed it in at the next step. Because of this difference (*training* vs *inference*), we will create two distinct instances, which will serve for the described scenarios.\n",
        "\n",
        "The picture below illustrates the point. It also shows our work with the special characters, e.g. look how the start symbol `^` is used. The transparent parts are ignored. In decoder, it is masked out in the loss computation. In encoder, the green state is considered as final and passed to the decoder. "
      ]
    },
    {
      "cell_type": "markdown",
      "metadata": {
        "id": "iqeJz3gMFjIX"
      },
      "source": [
        "<img src=\"https://github.com/wuflyh/natural-language-processing/blob/master/week4/encoder-decoder-pic.png?raw=1\" style=\"width: 500px;\">"
      ]
    },
    {
      "cell_type": "markdown",
      "metadata": {
        "id": "xkGjD7jLFjIX"
      },
      "source": [
        "Now, it's time to implement the decoder:\n",
        " - First, we should create two [helpers](https://www.tensorflow.org/api_guides/python/contrib.seq2seq#Dynamic_Decoding). These classes help to determine the behaviour of the decoder. During the training time, we will use [TrainingHelper](https://www.tensorflow.org/api_docs/python/tf/contrib/seq2seq/TrainingHelper). For the inference we recommend to use [GreedyEmbeddingHelper](https://www.tensorflow.org/api_docs/python/tf/contrib/seq2seq/GreedyEmbeddingHelper).\n",
        " - To share all parameters during training and inference, we use one scope and set the flag 'reuse' to True at inference time. You might be interested to know more about how [variable scopes](https://www.tensorflow.org/programmers_guide/variables) work in TF. \n",
        " - To create the decoder itself, we will use [BasicDecoder](https://www.tensorflow.org/api_docs/python/tf/contrib/seq2seq/BasicDecoder) class. As previously, you should choose some RNN cell, e.g. GRU cell. To turn hidden states into logits, we will need a projection layer. One of the simple solutions is using [OutputProjectionWrapper](https://www.tensorflow.org/api_docs/python/tf/contrib/rnn/OutputProjectionWrapper).\n",
        " - For getting the predictions, it will be convinient to use [dynamic_decode](https://www.tensorflow.org/api_docs/python/tf/contrib/seq2seq/dynamic_decode). This function uses the provided decoder to perform decoding."
      ]
    },
    {
      "cell_type": "code",
      "metadata": {
        "collapsed": true,
        "id": "LeWGwOFCFjIX"
      },
      "source": [
        "def build_decoder(self, hidden_size, vocab_size, max_iter, start_symbol_id, end_symbol_id):\n",
        "    \"\"\"Specifies decoder architecture and computes the output.\n",
        "    \n",
        "        Uses different helpers:\n",
        "          - for train: feeding ground truth\n",
        "          - for inference: feeding generated output\n",
        "\n",
        "        As a result, self.train_outputs and self.infer_outputs are created. \n",
        "        Each of them contains two fields:\n",
        "          rnn_output (predicted logits)\n",
        "          sample_id (predictions).\n",
        "\n",
        "    \"\"\"\n",
        "    \n",
        "    # Use start symbols as the decoder inputs at the first time step.\n",
        "    batch_size = tf.shape(self.input_batch)[0]\n",
        "    start_tokens = tf.fill([batch_size], start_symbol_id)\n",
        "    ground_truth_as_input = tf.concat([tf.expand_dims(start_tokens, 1), self.ground_truth], 1)\n",
        "    \n",
        "    # Use the embedding layer defined before to lookup embedings for ground_truth_as_input. \n",
        "     ######### YOUR CODE HERE #############\n",
        "    self.ground_truth_embedded = tf.nn.embedding_lookup(self.embeddings, ground_truth_as_input)\n",
        "     \n",
        "    # Create TrainingHelper for the train stage.\n",
        "    train_helper = tf.contrib.seq2seq.TrainingHelper(self.ground_truth_embedded, \n",
        "                                                     self.ground_truth_lengths)\n",
        "    \n",
        "    # Create GreedyEmbeddingHelper for the inference stage.\n",
        "    # You should provide the embedding layer, start_tokens and index of the end symbol.\n",
        "    ######### YOUR CODE HERE #############\n",
        "    infer_helper = tf.contrib.seq2seq.GreedyEmbeddingHelper(self.embeddings,\n",
        "                                                            start_tokens,\n",
        "                                                            end_symbol_id)\n",
        "    \n",
        "  \n",
        "    def decode(helper, scope, reuse=None):\n",
        "        \"\"\"Creates decoder and return the results of the decoding with a given helper.\"\"\"\n",
        "        \n",
        "        with tf.variable_scope(scope, reuse=reuse):\n",
        "            # Create GRUCell with dropout. Do not forget to set the reuse flag properly.\n",
        "            ######### YOUR CODE HERE #############\n",
        "            decoder_cell_gru = tf.nn.rnn_cell.GRUCell(num_units=hidden_size, reuse = reuse)\n",
        "            decoder_cell = tf.nn.rnn_cell.DropoutWrapper(decoder_cell_gru,\n",
        "                                                         input_keep_prob=self.dropout_ph,\n",
        "                                                         state_keep_prob=self.dropout_ph,\n",
        "                                                         output_keep_prob=self.dropout_ph)            \n",
        "            # Create a projection wrapper.\n",
        "            decoder_cell = tf.contrib.rnn.OutputProjectionWrapper(decoder_cell, vocab_size, reuse=reuse)\n",
        "\n",
        "            # Create BasicDecoder, pass the defined cell, a helper, and initial state.\n",
        "            # The initial state should be equal to the final state of the encoder!\n",
        "            ######### YOUR CODE HERE #############\n",
        "            decoder = tf.contrib.seq2seq.BasicDecoder(cell=decoder_cell,\n",
        "                                                      helper=helper,\n",
        "                                                      initial_state=self.final_encoder_state)\n",
        "            \n",
        "            # The first returning argument of dynamic_decode contains two fields:\n",
        "            #   rnn_output (predicted logits)\n",
        "            #   sample_id (predictions)\n",
        "            outputs, _, _ = tf.contrib.seq2seq.dynamic_decode(decoder=decoder, maximum_iterations=max_iter, \n",
        "                                                              output_time_major=False, impute_finished=True)\n",
        "            #https://stackoverflow.com/questions/50509804/undertanding-the-final-outputs-of-tf-contrib-seq2seq-dynamic-docode\n",
        "            return outputs\n",
        "        \n",
        "    self.train_outputs = decode(train_helper, 'decode')\n",
        "    self.infer_outputs = decode(infer_helper, 'decode', reuse=True)"
      ],
      "execution_count": 26,
      "outputs": []
    },
    {
      "cell_type": "code",
      "metadata": {
        "collapsed": true,
        "id": "M49ZF3K6FjIY"
      },
      "source": [
        "Seq2SeqModel.__build_decoder = classmethod(build_decoder)"
      ],
      "execution_count": 27,
      "outputs": []
    },
    {
      "cell_type": "markdown",
      "metadata": {
        "id": "ODA77DqNFjIY"
      },
      "source": [
        "In this task we will use [sequence_loss](https://www.tensorflow.org/api_docs/python/tf/contrib/seq2seq/sequence_loss), which is a weighted cross-entropy loss for a sequence of logits. Take a moment to understand, what is your train logits and targets. Also note, that we do not want to take into account loss terms coming from padding symbols, so we will mask them out using weights.  "
      ]
    },
    {
      "cell_type": "code",
      "metadata": {
        "collapsed": true,
        "id": "hzmDLFDkFjIY"
      },
      "source": [
        "def compute_loss(self):\n",
        "    \"\"\"Computes sequence loss (masked cross-entopy loss with logits).\"\"\"\n",
        "    \n",
        "    weights = tf.cast(tf.sequence_mask(self.ground_truth_lengths), dtype=tf.float32)\n",
        "    ######### YOUR CODE HERE #############\n",
        "    self.loss = tf.contrib.seq2seq.sequence_loss(self.train_outputs.rnn_output, \n",
        "                                                 self.ground_truth,\n",
        "                                                 weights)"
      ],
      "execution_count": 28,
      "outputs": []
    },
    {
      "cell_type": "code",
      "metadata": {
        "collapsed": true,
        "id": "MZKiacrYFjIY"
      },
      "source": [
        "Seq2SeqModel.__compute_loss = classmethod(compute_loss)"
      ],
      "execution_count": 29,
      "outputs": []
    },
    {
      "cell_type": "markdown",
      "metadata": {
        "id": "2UDrLKFdFjIY"
      },
      "source": [
        "The last thing to specify is the optimization of the defined loss. \n",
        "We suggest that you use [optimize_loss](https://www.tensorflow.org/api_docs/python/tf/contrib/layers/optimize_loss) with Adam optimizer and a learning rate from the corresponding placeholder. You might also need to pass global step (e.g. as tf.train.get_global_step()) and clip gradients by 1.0."
      ]
    },
    {
      "cell_type": "code",
      "metadata": {
        "collapsed": true,
        "id": "yLJUoW2OFjIY"
      },
      "source": [
        "def perform_optimization(self):\n",
        "    \"\"\"Specifies train_op that optimizes self.loss.\"\"\"\n",
        "    ######### YOUR CODE HERE #############\n",
        "    self.train_op = tf.contrib.layers.optimize_loss(self.loss, \n",
        "                                                    tf.train.get_global_step(),\n",
        "                                                    self.learning_rate_ph,\n",
        "                                                    'Adam',\n",
        "                                                    clip_gradients=1.0)"
      ],
      "execution_count": 30,
      "outputs": []
    },
    {
      "cell_type": "code",
      "metadata": {
        "collapsed": true,
        "id": "rkPby6MDFjIZ"
      },
      "source": [
        "Seq2SeqModel.__perform_optimization = classmethod(perform_optimization)"
      ],
      "execution_count": 31,
      "outputs": []
    },
    {
      "cell_type": "markdown",
      "metadata": {
        "id": "OzVQrxSbFjIZ"
      },
      "source": [
        "Congratulations! You have specified all the parts of your network. You may have noticed, that we didn't deal with any real data yet, so what you have written is just recipies on how the network should function.\n",
        "Now we will put them to the constructor of our Seq2SeqModel class to use it in the next section. "
      ]
    },
    {
      "cell_type": "code",
      "metadata": {
        "collapsed": true,
        "id": "_UZStLoyFjIZ"
      },
      "source": [
        "def init_model(self, vocab_size, embeddings_size, hidden_size, \n",
        "               max_iter, start_symbol_id, end_symbol_id, padding_symbol_id):\n",
        "    \n",
        "    self.__declare_placeholders()\n",
        "    self.__create_embeddings(vocab_size, embeddings_size)\n",
        "    self.__build_encoder(hidden_size)\n",
        "    self.__build_decoder(hidden_size, vocab_size, max_iter, start_symbol_id, end_symbol_id)\n",
        "    \n",
        "    # Compute loss and back-propagate.\n",
        "    self.__compute_loss()\n",
        "    self.__perform_optimization()\n",
        "    \n",
        "    # Get predictions for evaluation.\n",
        "    self.train_predictions = self.train_outputs.sample_id\n",
        "    self.infer_predictions = self.infer_outputs.sample_id"
      ],
      "execution_count": 32,
      "outputs": []
    },
    {
      "cell_type": "code",
      "metadata": {
        "collapsed": true,
        "id": "qFvYDr_yFjIZ"
      },
      "source": [
        "Seq2SeqModel.__init__ = classmethod(init_model)"
      ],
      "execution_count": 33,
      "outputs": []
    },
    {
      "cell_type": "markdown",
      "metadata": {
        "id": "3wFs_G9xFjIZ"
      },
      "source": [
        "## Train the network and predict output\n",
        "\n",
        "[Session.run](https://www.tensorflow.org/api_docs/python/tf/Session#run) is a point which initiates computations in the graph that we have defined. To train the network, we need to compute *self.train_op*. To predict output, we just need to compute *self.infer_predictions*. In any case, we need to feed actual data through the placeholders that we defined above. "
      ]
    },
    {
      "cell_type": "code",
      "metadata": {
        "collapsed": true,
        "id": "vjlbpfYtFjIa"
      },
      "source": [
        "def train_on_batch(self, session, X, X_seq_len, Y, Y_seq_len, learning_rate, dropout_keep_probability):\n",
        "    feed_dict = {\n",
        "            self.input_batch: X,\n",
        "            self.input_batch_lengths: X_seq_len,\n",
        "            self.ground_truth: Y,\n",
        "            self.ground_truth_lengths: Y_seq_len,\n",
        "            self.learning_rate_ph: learning_rate,\n",
        "            self.dropout_ph: dropout_keep_probability\n",
        "        }\n",
        "    pred, loss, _ = session.run([\n",
        "            self.train_predictions,\n",
        "            self.loss,\n",
        "            self.train_op], feed_dict=feed_dict)\n",
        "    return pred, loss"
      ],
      "execution_count": 34,
      "outputs": []
    },
    {
      "cell_type": "code",
      "metadata": {
        "collapsed": true,
        "id": "slPnpfYCFjIa"
      },
      "source": [
        "Seq2SeqModel.train_on_batch = classmethod(train_on_batch)"
      ],
      "execution_count": 35,
      "outputs": []
    },
    {
      "cell_type": "markdown",
      "metadata": {
        "id": "gIJSqXO2FjIa"
      },
      "source": [
        "We implemented two prediction functions: *predict_for_batch* and *predict_for_batch_with_loss*. The first one allows only to predict output for some input sequence, while the second one could compute loss because we provide also ground truth values. Both these functions might be useful since the first one could be used for predicting only, and the second one is helpful for validating results on not-training data during the training."
      ]
    },
    {
      "cell_type": "code",
      "metadata": {
        "collapsed": true,
        "id": "cWXLBhiMFjIa"
      },
      "source": [
        "def predict_for_batch(self, session, X, X_seq_len):\n",
        "    ######### YOUR CODE HERE #############\n",
        "    feed_dict = {\n",
        "            self.input_batch: X,\n",
        "            self.input_batch_lengths: X_seq_len\n",
        "        }\n",
        "    pred = session.run([\n",
        "            self.infer_predictions\n",
        "        ], feed_dict=feed_dict)[0]\n",
        "    return pred\n",
        "\n",
        "def predict_for_batch_with_loss(self, session, X, X_seq_len, Y, Y_seq_len):\n",
        "    ######### YOUR CODE HERE #############\n",
        "    feed_dict = {\n",
        "            self.input_batch: X,\n",
        "            self.input_batch_lengths: X_seq_len,\n",
        "            self.ground_truth: Y,\n",
        "            self.ground_truth_lengths: Y_seq_len\n",
        "        }\n",
        "    pred, loss = session.run([\n",
        "            self.infer_predictions,\n",
        "            self.loss,\n",
        "        ], feed_dict=feed_dict)\n",
        "    return pred, loss"
      ],
      "execution_count": 36,
      "outputs": []
    },
    {
      "cell_type": "code",
      "metadata": {
        "collapsed": true,
        "id": "568B1TtLFjIa"
      },
      "source": [
        "Seq2SeqModel.predict_for_batch = classmethod(predict_for_batch)\n",
        "Seq2SeqModel.predict_for_batch_with_loss = classmethod(predict_for_batch_with_loss)"
      ],
      "execution_count": 37,
      "outputs": []
    },
    {
      "cell_type": "markdown",
      "metadata": {
        "id": "9dBD6UKdFjIb"
      },
      "source": [
        "## Run your experiment\n",
        "\n",
        "Create *Seq2SeqModel* model with the following parameters:\n",
        " - *vocab_size* — number of tokens;\n",
        " - *embeddings_size* — dimension of embeddings, recommended value: 20;\n",
        " - *max_iter* — maximum number of steps in decoder, recommended value: 7;\n",
        " - *hidden_size* — size of hidden layers for RNN, recommended value: 512;\n",
        " - *start_symbol_id* — an index of the start token (`^`).\n",
        " - *end_symbol_id* — an index of the end token (`$`).\n",
        " - *padding_symbol_id* — an index of the padding token (`#`).\n",
        "\n",
        "Set hyperparameters. You might want to start with the following values and see how it works:\n",
        "- *batch_size*: 128;\n",
        "- at least 10 epochs;\n",
        "- value of *learning_rate*: 0.001\n",
        "- *dropout_keep_probability* equals to 0.5 for training (typical values for dropout probability are ranging from 0.1 to 1.0); larger values correspond smaler number of dropout units;\n",
        "- *max_len*: 20."
      ]
    },
    {
      "cell_type": "code",
      "metadata": {
        "collapsed": true,
        "id": "p8uQm4PoFjIb",
        "colab": {
          "base_uri": "https://localhost:8080/"
        },
        "outputId": "0a0c5589-ef02-4887-f3f0-2a4197348aa7"
      },
      "source": [
        "print(tf.__version__)\n",
        "tf.reset_default_graph()\n",
        "\n",
        "######### YOUR CODE HERE #############\n",
        "#vocab_size, embeddings_size, hidden_size, max_iter\n",
        "#start_symbol_id, end_symbol_id, padding_symbol_id\n",
        "\n",
        "model = Seq2SeqModel(len(id2word), 20, 512, 7,\n",
        "                     word2id['^'], word2id['$'], word2id['#'])\n",
        "######### YOUR CODE HERE #############\n",
        "batch_size = 128\n",
        "######### YOUR CODE HERE #############\n",
        "n_epochs = 20\n",
        "######### YOUR CODE HERE #############\n",
        "learning_rate = 0.001\n",
        "######### YOUR CODE HERE #############\n",
        "dropout_keep_probability = 0.9\n",
        "######### YOUR CODE HERE #############\n",
        "max_len = 20\n",
        "\n",
        "n_step = int(len(train_set) / batch_size)"
      ],
      "execution_count": 47,
      "outputs": [
        {
          "output_type": "stream",
          "text": [
            "1.15.0\n"
          ],
          "name": "stdout"
        }
      ]
    },
    {
      "cell_type": "markdown",
      "metadata": {
        "id": "C9Tr8c1ZFjIb"
      },
      "source": [
        "Finally, we are ready to run the training! A good indicator that everything works fine is decreasing loss during the training. You should account on the loss value equal to approximately 2.7 at the beginning of the training and near 1 after the 10th epoch."
      ]
    },
    {
      "cell_type": "code",
      "metadata": {
        "collapsed": true,
        "scrolled": true,
        "id": "oBrN2K0VFjIb",
        "colab": {
          "base_uri": "https://localhost:8080/"
        },
        "outputId": "0a1f5fbc-e5c2-4467-ff10-e9fbaf7a3850"
      },
      "source": [
        "session = tf.Session()\n",
        "session.run(tf.global_variables_initializer())\n",
        "            \n",
        "invalid_number_prediction_counts = []\n",
        "all_model_predictions = []\n",
        "all_ground_truth = []\n",
        "\n",
        "print('Start training... \\n')\n",
        "for epoch in range(n_epochs):  \n",
        "    random.shuffle(train_set)\n",
        "    random.shuffle(test_set)\n",
        "    \n",
        "    print('Train: epoch', epoch + 1)\n",
        "    for n_iter, (X_batch, Y_batch) in enumerate(generate_batches(train_set, batch_size=batch_size)):\n",
        "        ######################################\n",
        "        ######### YOUR CODE HERE #############\n",
        "        ######################################\n",
        "        X, X_seq_len = batch_to_ids(X_batch, word2id, max_len)\n",
        "        Y, Y_seq_len = batch_to_ids(Y_batch, word2id, max_len)\n",
        "\n",
        "        # prepare the data (X_batch and Y_batch) for training\n",
        "        # using function batch_to_ids\n",
        "        ######### YOUR CODE HERE #############\n",
        "        #predictions, loss = model.predict_for_batch_with_loss(session, X, X_seq_len, Y, Y_seq_len)\n",
        "        predictions, loss = model.train_on_batch(session, X, X_seq_len, Y, Y_seq_len, learning_rate, dropout_keep_probability)\n",
        "        \n",
        "        if n_iter % 200 == 0:\n",
        "            print(\"Epoch: [%d/%d], step: [%d/%d], loss: %f\" % (epoch + 1, n_epochs, n_iter + 1, n_step, loss))\n",
        "                \n",
        "    X_sent, Y_sent = next(generate_batches(test_set, batch_size=batch_size))\n",
        "    ######################################\n",
        "    ######### YOUR CODE HERE #############\n",
        "    ######################################\n",
        "    # prepare test data (X_sent and Y_sent) for predicting \n",
        "    # quality and computing value of the loss function\n",
        "    # using function batch_to_ids\n",
        "    X, X_seq_len = batch_to_ids(X_sent, word2id, max_len)\n",
        "    Y, Y_seq_len = batch_to_ids(Y_sent, word2id, max_len)\n",
        "\n",
        "    ######### YOUR CODE HERE #############\n",
        "    predictions, loss = model.predict_for_batch_with_loss(session, X, X_seq_len, Y, Y_seq_len)\n",
        "\n",
        "    print('Test: epoch', epoch + 1, 'loss:', loss,)\n",
        "    for x, y, p  in list(zip(X, Y, predictions))[:3]:\n",
        "        print('X:',''.join(ids_to_sentence(x, id2word)))\n",
        "        print('Y:',''.join(ids_to_sentence(y, id2word)))\n",
        "        print('O:',''.join(ids_to_sentence(p, id2word)))\n",
        "        print('')\n",
        "\n",
        "    model_predictions = []\n",
        "    ground_truth = []\n",
        "    invalid_number_prediction_count = 0\n",
        "    # For the whole test set calculate ground-truth values (as integer numbers)\n",
        "    # and prediction values (also as integers) to calculate metrics.\n",
        "    # If generated by model number is not correct (e.g. '1-1'), \n",
        "    # increase invalid_number_prediction_count and don't append this and corresponding\n",
        "    # ground-truth value to the arrays.\n",
        "    for X_batch, Y_batch in generate_batches(test_set, batch_size=batch_size):\n",
        "        ######################################\n",
        "        ######### YOUR CODE HERE #############\n",
        "        X, X_seq_len = batch_to_ids(X_batch, word2id, max_len)\n",
        "        predictions = model.predict_for_batch(session, X, X_seq_len)\n",
        "        for y, p in zip(Y_batch, predictions):\n",
        "          sent = ''.join(ids_to_sentence(p, id2word))\n",
        "          while sent and sent[-1] == '#':\n",
        "            sent = sent[:-1]\n",
        "          if sent and sent[-1]=='$':\n",
        "            sent = sent[:-1]\n",
        "          neg = 1\n",
        "          if sent and sent[0] == '-':\n",
        "            sent = sent[1:]\n",
        "            neg = -1\n",
        "          if not sent or not sent.isnumeric():\n",
        "            invalid_number_prediction_count+=1\n",
        "            continue\n",
        "          #print(sent, y)\n",
        "          model_predictions.append(neg*eval(sent))\n",
        "          ground_truth.append(eval(y))\n",
        "        ######################################\n",
        "    \n",
        "    all_model_predictions.append(model_predictions)\n",
        "    all_ground_truth.append(ground_truth)\n",
        "    invalid_number_prediction_counts.append(invalid_number_prediction_count)\n",
        "            \n",
        "print('\\n...training finished.')"
      ],
      "execution_count": 48,
      "outputs": [
        {
          "output_type": "stream",
          "text": [
            "Start training... \n",
            "\n",
            "Train: epoch 1\n",
            "Epoch: [1/20], step: [1/625], loss: 2.713957\n",
            "Epoch: [1/20], step: [201/625], loss: 1.750674\n",
            "Epoch: [1/20], step: [401/625], loss: 1.643978\n",
            "Epoch: [1/20], step: [601/625], loss: 1.609937\n",
            "Test: epoch 1 loss: 1.5411118\n",
            "X: 8260-7337$\n",
            "Y: 923$##\n",
            "O: 1155$#\n",
            "\n",
            "X: 7395+736$#\n",
            "Y: 8131$#\n",
            "O: 10077$\n",
            "\n",
            "X: 9344-1343$\n",
            "Y: 8001$#\n",
            "O: 7677$#\n",
            "\n",
            "Train: epoch 2\n",
            "Epoch: [2/20], step: [1/625], loss: 1.549188\n",
            "Epoch: [2/20], step: [201/625], loss: 1.497165\n",
            "Epoch: [2/20], step: [401/625], loss: 1.484385\n",
            "Epoch: [2/20], step: [601/625], loss: 1.461822\n",
            "Test: epoch 2 loss: 1.3716532\n",
            "X: 9699-2868$\n",
            "Y: 6831$#\n",
            "O: 6401$#\n",
            "\n",
            "X: 6995-1197$\n",
            "Y: 5798$#\n",
            "O: 5299$#\n",
            "\n",
            "X: 7471-6519$\n",
            "Y: 952$##\n",
            "O: 1222$#\n",
            "\n",
            "Train: epoch 3\n",
            "Epoch: [3/20], step: [1/625], loss: 1.426152\n",
            "Epoch: [3/20], step: [201/625], loss: 1.419893\n",
            "Epoch: [3/20], step: [401/625], loss: 1.405346\n",
            "Test: epoch 3 loss: 1.3273361\n",
            "X: 5573+6891$\n",
            "Y: 12464$\n",
            "O: 12537$\n",
            "\n",
            "X: 2784+6510$\n",
            "Y: 9294$#\n",
            "O: 9000$#\n",
            "\n",
            "X: 3675-3673$\n",
            "Y: 2$####\n",
            "O: -27$##\n",
            "\n",
            "Train: epoch 4\n",
            "Epoch: [4/20], step: [1/625], loss: 1.363434\n",
            "Epoch: [4/20], step: [201/625], loss: 1.334508\n",
            "Epoch: [4/20], step: [401/625], loss: 1.347405\n",
            "Epoch: [4/20], step: [601/625], loss: 1.295884\n",
            "Test: epoch 4 loss: 1.257644\n",
            "X: 6187-4434$\n",
            "Y: 1753$#\n",
            "O: 1805$#\n",
            "\n",
            "X: 9400-8884$\n",
            "Y: 516$##\n",
            "O: 1157$#\n",
            "\n",
            "X: 1461-9761$\n",
            "Y: -8300$\n",
            "O: -8010$\n",
            "\n",
            "Train: epoch 5\n",
            "Epoch: [5/20], step: [1/625], loss: 1.323116\n",
            "Epoch: [5/20], step: [201/625], loss: 1.304451\n",
            "Epoch: [5/20], step: [401/625], loss: 1.342122\n",
            "Epoch: [5/20], step: [601/625], loss: 1.338637\n",
            "Test: epoch 5 loss: 1.2460587\n",
            "X: 5963-956$#\n",
            "Y: 5007$#\n",
            "O: 4979$#\n",
            "\n",
            "X: 1747+6680$\n",
            "Y: 8427$#\n",
            "O: 8777$#\n",
            "\n",
            "X: 3-997$####\n",
            "Y: -994$#\n",
            "O: -777$#\n",
            "\n",
            "Train: epoch 6\n",
            "Epoch: [6/20], step: [1/625], loss: 1.317330\n",
            "Epoch: [6/20], step: [201/625], loss: 1.318344\n",
            "Epoch: [6/20], step: [401/625], loss: 1.307669\n",
            "Epoch: [6/20], step: [601/625], loss: 1.245851\n",
            "Test: epoch 6 loss: 1.2063644\n",
            "X: 1166+8682$\n",
            "Y: 9848$#\n",
            "O: 9798$#\n",
            "\n",
            "X: 5960-1557$\n",
            "Y: 4403$#\n",
            "O: 4266$#\n",
            "\n",
            "X: 6281+7284$\n",
            "Y: 13565$\n",
            "O: 13788$\n",
            "\n",
            "Train: epoch 7\n",
            "Epoch: [7/20], step: [1/625], loss: 1.285500\n",
            "Epoch: [7/20], step: [201/625], loss: 1.283484\n",
            "Epoch: [7/20], step: [401/625], loss: 1.267618\n",
            "Epoch: [7/20], step: [601/625], loss: 1.270809\n",
            "Test: epoch 7 loss: 1.1973835\n",
            "X: 8628-3906$\n",
            "Y: 4722$#\n",
            "O: 4898$#\n",
            "\n",
            "X: 9387+5875$\n",
            "Y: 15262$\n",
            "O: 15448$\n",
            "\n",
            "X: 5408-6569$\n",
            "Y: -1161$\n",
            "O: -1382$\n",
            "\n",
            "Train: epoch 8\n",
            "Epoch: [8/20], step: [1/625], loss: 1.272357\n",
            "Epoch: [8/20], step: [201/625], loss: 1.277584\n",
            "Epoch: [8/20], step: [401/625], loss: 1.260711\n",
            "Epoch: [8/20], step: [601/625], loss: 1.274202\n",
            "Test: epoch 8 loss: 1.1955603\n",
            "X: 2137-2776$\n",
            "Y: -639$#\n",
            "O: -595$#\n",
            "\n",
            "X: 9161+2110$\n",
            "Y: 11271$\n",
            "O: 11393$\n",
            "\n",
            "X: 9392+7651$\n",
            "Y: 17043$\n",
            "O: 17007$\n",
            "\n",
            "Train: epoch 9\n",
            "Epoch: [9/20], step: [1/625], loss: 1.289120\n",
            "Epoch: [9/20], step: [201/625], loss: 1.242187\n",
            "Epoch: [9/20], step: [401/625], loss: 1.259289\n",
            "Epoch: [9/20], step: [601/625], loss: 1.242253\n",
            "Test: epoch 9 loss: 1.1857862\n",
            "X: 6912+7997$\n",
            "Y: 14909$\n",
            "O: 14882$\n",
            "\n",
            "X: 2400+9124$\n",
            "Y: 11524$\n",
            "O: 11455$\n",
            "\n",
            "X: 7658+346$#\n",
            "Y: 8004$#\n",
            "O: 8129$#\n",
            "\n",
            "Train: epoch 10\n",
            "Epoch: [10/20], step: [1/625], loss: 1.227164\n",
            "Epoch: [10/20], step: [201/625], loss: 1.215058\n",
            "Epoch: [10/20], step: [401/625], loss: 1.264368\n",
            "Epoch: [10/20], step: [601/625], loss: 1.237413\n",
            "Test: epoch 10 loss: 1.1562408\n",
            "X: 7743+4915$\n",
            "Y: 12658$\n",
            "O: 12418$\n",
            "\n",
            "X: 3377-5363$\n",
            "Y: -1986$\n",
            "O: -2013$\n",
            "\n",
            "X: 1769+9922$\n",
            "Y: 11691$\n",
            "O: 11543$\n",
            "\n",
            "Train: epoch 11\n",
            "Epoch: [11/20], step: [1/625], loss: 1.219219\n",
            "Epoch: [11/20], step: [201/625], loss: 1.199730\n",
            "Epoch: [11/20], step: [401/625], loss: 1.232893\n",
            "Epoch: [11/20], step: [601/625], loss: 1.231093\n",
            "Test: epoch 11 loss: 1.1622057\n",
            "X: 1163-414$#\n",
            "Y: 749$##\n",
            "O: 833$##\n",
            "\n",
            "X: 7863-7334$\n",
            "Y: 529$##\n",
            "O: 473$##\n",
            "\n",
            "X: 8883+6354$\n",
            "Y: 15237$\n",
            "O: 15199$\n",
            "\n",
            "Train: epoch 12\n",
            "Epoch: [12/20], step: [1/625], loss: 1.186400\n",
            "Epoch: [12/20], step: [201/625], loss: 1.208361\n",
            "Epoch: [12/20], step: [401/625], loss: 1.197932\n",
            "Epoch: [12/20], step: [601/625], loss: 1.222890\n",
            "Test: epoch 12 loss: 1.1615361\n",
            "X: 5388+8187$\n",
            "Y: 13575$\n",
            "O: 13569$\n",
            "\n",
            "X: 1071+146$#\n",
            "Y: 1217$#\n",
            "O: 1333$#\n",
            "\n",
            "X: 8055+8852$\n",
            "Y: 16907$\n",
            "O: 16975$\n",
            "\n",
            "Train: epoch 13\n",
            "Epoch: [13/20], step: [1/625], loss: 1.203664\n",
            "Epoch: [13/20], step: [201/625], loss: 1.191413\n",
            "Epoch: [13/20], step: [401/625], loss: 1.210764\n",
            "Epoch: [13/20], step: [601/625], loss: 1.211494\n",
            "Test: epoch 13 loss: 1.148616\n",
            "X: 6637+6391$\n",
            "Y: 13028$\n",
            "O: 13055$\n",
            "\n",
            "X: 4633+5014$\n",
            "Y: 9647$#\n",
            "O: 9781$#\n",
            "\n",
            "X: 7727-4406$\n",
            "Y: 3321$#\n",
            "O: 3249$#\n",
            "\n",
            "Train: epoch 14\n",
            "Epoch: [14/20], step: [1/625], loss: 1.202187\n",
            "Epoch: [14/20], step: [201/625], loss: 1.185131\n",
            "Epoch: [14/20], step: [401/625], loss: 1.190970\n",
            "Epoch: [14/20], step: [601/625], loss: 1.208449\n",
            "Test: epoch 14 loss: 1.1425654\n",
            "X: 6665+5479$\n",
            "Y: 12144$\n",
            "O: 12024$\n",
            "\n",
            "X: 4513+7508$\n",
            "Y: 12021$\n",
            "O: 11844$\n",
            "\n",
            "X: 8780-6746$\n",
            "Y: 2034$#\n",
            "O: 2134$#\n",
            "\n",
            "Train: epoch 15\n",
            "Epoch: [15/20], step: [1/625], loss: 1.157388\n",
            "Epoch: [15/20], step: [201/625], loss: 1.178618\n",
            "Epoch: [15/20], step: [401/625], loss: 1.192768\n",
            "Epoch: [15/20], step: [601/625], loss: 1.187468\n",
            "Test: epoch 15 loss: 1.1239988\n",
            "X: 1304+3079$\n",
            "Y: 4383$#\n",
            "O: 4441$#\n",
            "\n",
            "X: 896+6534$#\n",
            "Y: 7430$#\n",
            "O: 7437$#\n",
            "\n",
            "X: 7000-3010$\n",
            "Y: 3990$#\n",
            "O: 3984$#\n",
            "\n",
            "Train: epoch 16\n",
            "Epoch: [16/20], step: [1/625], loss: 1.168891\n",
            "Epoch: [16/20], step: [201/625], loss: 1.165392\n",
            "Epoch: [16/20], step: [401/625], loss: 1.158455\n",
            "Epoch: [16/20], step: [601/625], loss: 1.187380\n",
            "Test: epoch 16 loss: 1.0928963\n",
            "X: 6544+4869$\n",
            "Y: 11413$\n",
            "O: 11438$\n",
            "\n",
            "X: 9220-7895$\n",
            "Y: 1325$#\n",
            "O: 1380$#\n",
            "\n",
            "X: 485-8404$#\n",
            "Y: -7919$\n",
            "O: -7928$\n",
            "\n",
            "Train: epoch 17\n",
            "Epoch: [17/20], step: [1/625], loss: 1.129429\n",
            "Epoch: [17/20], step: [201/625], loss: 1.194675\n",
            "Epoch: [17/20], step: [401/625], loss: 1.163339\n",
            "Epoch: [17/20], step: [601/625], loss: 1.190748\n",
            "Test: epoch 17 loss: 1.1203246\n",
            "X: 7920+4831$\n",
            "Y: 12751$\n",
            "O: 12715$\n",
            "\n",
            "X: 3601+1747$\n",
            "Y: 5348$#\n",
            "O: 5281$#\n",
            "\n",
            "X: 2302-956$#\n",
            "Y: 1346$#\n",
            "O: 1311$#\n",
            "\n",
            "Train: epoch 18\n",
            "Epoch: [18/20], step: [1/625], loss: 1.156236\n",
            "Epoch: [18/20], step: [201/625], loss: 1.143529\n",
            "Epoch: [18/20], step: [401/625], loss: 1.183963\n",
            "Epoch: [18/20], step: [601/625], loss: 1.157475\n",
            "Test: epoch 18 loss: 1.0913907\n",
            "X: 1589+4168$\n",
            "Y: 5757$#\n",
            "O: 5804$#\n",
            "\n",
            "X: 5747+2218$\n",
            "Y: 7965$#\n",
            "O: 7949$#\n",
            "\n",
            "X: 2396+6567$\n",
            "Y: 8963$#\n",
            "O: 8995$#\n",
            "\n",
            "Train: epoch 19\n",
            "Epoch: [19/20], step: [1/625], loss: 1.176643\n",
            "Epoch: [19/20], step: [201/625], loss: 1.169106\n",
            "Epoch: [19/20], step: [401/625], loss: 1.150672\n",
            "Epoch: [19/20], step: [601/625], loss: 1.146842\n",
            "Test: epoch 19 loss: 1.0720571\n",
            "X: 7590+3303$\n",
            "Y: 10893$\n",
            "O: 10993$\n",
            "\n",
            "X: 9137+5798$\n",
            "Y: 14935$\n",
            "O: 14989$\n",
            "\n",
            "X: 8309-4944$\n",
            "Y: 3365$#\n",
            "O: 3463$#\n",
            "\n",
            "Train: epoch 20\n",
            "Epoch: [20/20], step: [1/625], loss: 1.155281\n",
            "Epoch: [20/20], step: [201/625], loss: 1.105968\n",
            "Epoch: [20/20], step: [401/625], loss: 1.165352\n",
            "Epoch: [20/20], step: [601/625], loss: 1.150074\n",
            "Test: epoch 20 loss: 1.0674893\n",
            "X: 2429+397$#\n",
            "Y: 2826$#\n",
            "O: 2956$#\n",
            "\n",
            "X: 3119+7189$\n",
            "Y: 10308$\n",
            "O: 10341$\n",
            "\n",
            "X: 9980+95$##\n",
            "Y: 10075$\n",
            "O: 10062$\n",
            "\n",
            "\n",
            "...training finished.\n"
          ],
          "name": "stdout"
        }
      ]
    },
    {
      "cell_type": "markdown",
      "metadata": {
        "id": "2n4yeu8xFjIc"
      },
      "source": [
        "## Evaluate results\n",
        "\n",
        "Because our task is simple and the output is straight-forward, we will use [MAE](https://en.wikipedia.org/wiki/Mean_absolute_error) metric to evaluate the trained model during the epochs. Compute the value of the metric for the output from each epoch."
      ]
    },
    {
      "cell_type": "code",
      "metadata": {
        "collapsed": true,
        "id": "D43m0id9FjIc"
      },
      "source": [
        "from sklearn.metrics import mean_absolute_error"
      ],
      "execution_count": 49,
      "outputs": []
    },
    {
      "cell_type": "code",
      "metadata": {
        "collapsed": true,
        "id": "blKMJk79FjIc",
        "colab": {
          "base_uri": "https://localhost:8080/"
        },
        "outputId": "924169d2-9562-4989-abff-04385bfcf633"
      },
      "source": [
        "for i, (gts, predictions, invalid_number_prediction_count) in enumerate(zip(all_ground_truth,\n",
        "                                                                            all_model_predictions,\n",
        "                                                                            invalid_number_prediction_counts), 1):\n",
        "    ######### YOUR CODE HERE #############\n",
        "\n",
        "    mae = sum([abs(x-y) for x, y in zip(gts, predictions)])/len(gts)\n",
        "\n",
        "    print(\"Epoch: %i, MAE: %f, Invalid numbers: %i\" % (i, mae, invalid_number_prediction_count))"
      ],
      "execution_count": 50,
      "outputs": [
        {
          "output_type": "stream",
          "text": [
            "Epoch: 1, MAE: 824.117000, Invalid numbers: 0\n",
            "Epoch: 2, MAE: 366.989850, Invalid numbers: 0\n",
            "Epoch: 3, MAE: 207.011950, Invalid numbers: 0\n",
            "Epoch: 4, MAE: 170.595650, Invalid numbers: 0\n",
            "Epoch: 5, MAE: 141.630850, Invalid numbers: 0\n",
            "Epoch: 6, MAE: 122.408500, Invalid numbers: 0\n",
            "Epoch: 7, MAE: 114.515750, Invalid numbers: 0\n",
            "Epoch: 8, MAE: 111.927300, Invalid numbers: 0\n",
            "Epoch: 9, MAE: 106.560600, Invalid numbers: 0\n",
            "Epoch: 10, MAE: 92.815500, Invalid numbers: 0\n",
            "Epoch: 11, MAE: 90.093550, Invalid numbers: 0\n",
            "Epoch: 12, MAE: 83.688000, Invalid numbers: 0\n",
            "Epoch: 13, MAE: 77.833400, Invalid numbers: 0\n",
            "Epoch: 14, MAE: 76.220300, Invalid numbers: 0\n",
            "Epoch: 15, MAE: 76.202000, Invalid numbers: 0\n",
            "Epoch: 16, MAE: 66.426150, Invalid numbers: 0\n",
            "Epoch: 17, MAE: 74.420900, Invalid numbers: 0\n",
            "Epoch: 18, MAE: 67.106850, Invalid numbers: 0\n",
            "Epoch: 19, MAE: 60.262500, Invalid numbers: 0\n",
            "Epoch: 20, MAE: 59.085050, Invalid numbers: 0\n"
          ],
          "name": "stdout"
        }
      ]
    }
  ]
}